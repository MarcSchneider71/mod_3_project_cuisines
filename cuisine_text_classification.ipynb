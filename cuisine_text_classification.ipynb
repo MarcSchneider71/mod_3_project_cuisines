{
 "cells": [
  {
   "cell_type": "code",
   "execution_count": 3,
   "metadata": {},
   "outputs": [],
   "source": [
    "import pandas as pd"
   ]
  },
  {
   "cell_type": "code",
   "execution_count": 4,
   "metadata": {},
   "outputs": [
    {
     "data": {
      "text/html": [
       "<div>\n",
       "<style scoped>\n",
       "    .dataframe tbody tr th:only-of-type {\n",
       "        vertical-align: middle;\n",
       "    }\n",
       "\n",
       "    .dataframe tbody tr th {\n",
       "        vertical-align: top;\n",
       "    }\n",
       "\n",
       "    .dataframe thead th {\n",
       "        text-align: right;\n",
       "    }\n",
       "</style>\n",
       "<table border=\"1\" class=\"dataframe\">\n",
       "  <thead>\n",
       "    <tr style=\"text-align: right;\">\n",
       "      <th></th>\n",
       "      <th>Recipe_Name</th>\n",
       "      <th>Recipe_Ingredients</th>\n",
       "      <th>Cuisine</th>\n",
       "    </tr>\n",
       "  </thead>\n",
       "  <tbody>\n",
       "    <tr>\n",
       "      <th>0</th>\n",
       "      <td>Bunny chow</td>\n",
       "      <td>2 tbsp vegetable oil ½ tsp cumin seeds ½ tsp f...</td>\n",
       "      <td>african</td>\n",
       "    </tr>\n",
       "    <tr>\n",
       "      <th>1</th>\n",
       "      <td>Jollof rice with fried plantains</td>\n",
       "      <td>1 tbsp olive or vegetable oil 2 large onions, ...</td>\n",
       "      <td>african</td>\n",
       "    </tr>\n",
       "    <tr>\n",
       "      <th>2</th>\n",
       "      <td>Jollof rice</td>\n",
       "      <td>400ml/14fl oz passata 3 tbsp tomato purée 2 fr...</td>\n",
       "      <td>african</td>\n",
       "    </tr>\n",
       "    <tr>\n",
       "      <th>3</th>\n",
       "      <td>Suya fillet burger with sweet potato cubes and...</td>\n",
       "      <td>4g smoked paprika  2g cayenne pepper 6g ginger...</td>\n",
       "      <td>african</td>\n",
       "    </tr>\n",
       "    <tr>\n",
       "      <th>4</th>\n",
       "      <td>Jollof rice with chicken</td>\n",
       "      <td>300g/10½oz basmati rice 1 tbsp vegetable oil 8...</td>\n",
       "      <td>african</td>\n",
       "    </tr>\n",
       "  </tbody>\n",
       "</table>\n",
       "</div>"
      ],
      "text/plain": [
       "                                         Recipe_Name  \\\n",
       "0                                         Bunny chow   \n",
       "1                   Jollof rice with fried plantains   \n",
       "2                                        Jollof rice   \n",
       "3  Suya fillet burger with sweet potato cubes and...   \n",
       "4                          Jollof rice with chicken    \n",
       "\n",
       "                                  Recipe_Ingredients  Cuisine  \n",
       "0  2 tbsp vegetable oil ½ tsp cumin seeds ½ tsp f...  african  \n",
       "1  1 tbsp olive or vegetable oil 2 large onions, ...  african  \n",
       "2  400ml/14fl oz passata 3 tbsp tomato purée 2 fr...  african  \n",
       "3  4g smoked paprika  2g cayenne pepper 6g ginger...  african  \n",
       "4  300g/10½oz basmati rice 1 tbsp vegetable oil 8...  african  "
      ]
     },
     "execution_count": 4,
     "metadata": {},
     "output_type": "execute_result"
    }
   ],
   "source": [
    "df= pd.read_csv('all_recipe_data.csv')\n",
    "df.head()"
   ]
  },
  {
   "cell_type": "code",
   "execution_count": null,
   "metadata": {},
   "outputs": [],
   "source": []
  }
 ],
 "metadata": {
  "kernelspec": {
   "display_name": "Python 3",
   "language": "python",
   "name": "python3"
  },
  "language_info": {
   "codemirror_mode": {
    "name": "ipython",
    "version": 3
   },
   "file_extension": ".py",
   "mimetype": "text/x-python",
   "name": "python",
   "nbconvert_exporter": "python",
   "pygments_lexer": "ipython3",
   "version": "3.7.0"
  }
 },
 "nbformat": 4,
 "nbformat_minor": 2
}
