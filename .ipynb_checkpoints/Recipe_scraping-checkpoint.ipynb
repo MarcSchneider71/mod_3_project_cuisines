{
 "cells": [
  {
   "cell_type": "code",
   "execution_count": 78,
   "metadata": {},
   "outputs": [],
   "source": [
    "import requests\n",
    "from bs4 import BeautifulSoup"
   ]
  },
  {
   "cell_type": "code",
   "execution_count": 79,
   "metadata": {},
   "outputs": [
    {
     "data": {
      "text/plain": [
       "['2 tbsp vegetable oil',\n",
       " '½ tsp cumin seeds',\n",
       " '½ tsp fennel seeds',\n",
       " '2.5cm/1in piece of cinnamon stick',\n",
       " '2 green cardamom pods',\n",
       " '1 star anise',\n",
       " '1 bay leaf',\n",
       " '1 onion, finely chopped',\n",
       " '2 tbsp South African curry powder ',\n",
       " '2 tomatoes, chopped',\n",
       " '1kg/2lb 2oz boneless leg of lamb, cut into 1.5cm/½in dices',\n",
       " '1 tbsp finely chopped fresh ginger',\n",
       " '1 tbsp finely chopped garlic ',\n",
       " '10-12 curry leaves',\n",
       " '2 large potatoes, cut in cubes the same size as the meat',\n",
       " 'salt',\n",
       " '2 tbsp finely chopped coriander leaves',\n",
       " '2 tbsp lime juice',\n",
       " '2 loaves of crusty white bread, unsliced, each cut across in half in the middle and most of the crumbs removed ',\n",
       " 'coriander cress or sprigs, to garnish']"
      ]
     },
     "execution_count": 79,
     "metadata": {},
     "output_type": "execute_result"
    }
   ],
   "source": [
    "bunnychow = requests.get('https://www.bbc.com/food/recipes/bunny_chow_38916')\n",
    "bunnychow_text = bunnychow.text\n",
    "bunnychow_soup = BeautifulSoup(bunnychow_text)\n",
    "bunnychow_ingredients_list = bunnychow_soup.findAll('li', {'class':\"recipe-ingredients__list-item\"})\n",
    "ingredients = [ingredient.text for ingredient in bunnychow_ingredients_list]\n",
    "ingredients"
   ]
  },
  {
   "cell_type": "code",
   "execution_count": 77,
   "metadata": {},
   "outputs": [],
   "source": [
    "african_recipes = requests.get('https://www.bbc.com/food/cuisines/african')\n",
    "african_recipes_text = african_recipes.text\n",
    "african_recipes_soup = BeautifulSoup(african_recipes_text)\n",
    "\n",
    "african_recipes_list = african_recipes_soup.findAll('a', {'class':\"promo promo__istats promo__main_course\"})\n",
    "# <a class=\"promo promo__istats promo__main_course\" href=\"/food/recipes/suya_fillet_burger_with_59824\"><div class=\"gel-layout gel-layout--flush\"><div class=\"promo__image-container gel-layout__item gel-1/1\"><div class=\"responsive-image-container__16/9\"><img src=\"https://ichef.bbci.co.uk/food/ic/food_16x9_320/recipes/suya_fillet_burger_with_59824_16x9.jpg\" class=\"promo__image lazy-loaded\" alt=\"\" data-src=\"https://ichef.bbci.co.uk/food/ic/food_16x9_{width}/recipes/suya_fillet_burger_with_59824_16x9.jpg\"></div></div><div class=\"gel-layout__item promo__text promo__text--bottom-padding gel-1/1\"><div class=\"gel-wrap\"><div class=\"gel-layout\"><div class=\"gel-layout__item promo__title-container\"><h3 class=\"promo__title gel-pica\">Suya fillet burger with sweet potato cubes and watermelon salad</h3><span class=\"promo__subtitle gel-long-primer\">by Tobi Akingbolagun</span><p class=\"promo__synopsis gel-long-primer\"></p></div></div></div></div></div><span class=\"promo__type gel-minion\">Main course</span></a>\n",
    "\n"
   ]
  },
  {
   "cell_type": "code",
   "execution_count": 69,
   "metadata": {},
   "outputs": [
    {
     "name": "stdout",
     "output_type": "stream",
     "text": [
      "https://www.bbc.com/food/recipes/bunny_chow_38916\n",
      "https://www.bbc.com/food/recipes/jollof_rice_with_fried_79619\n",
      "https://www.bbc.com/food/recipes/jollof_rice_with_fried_84889\n",
      "https://www.bbc.com/food/recipes/suya_fillet_burger_with_59824\n",
      "https://www.bbc.com/food/recipes/jollof_rice_with_chicken_74636\n",
      "https://www.bbc.com/food/recipes/red-red_stew_with_spiced_28798\n",
      "https://www.bbc.com/food/recipes/bobotie_83671\n",
      "https://www.bbc.com/food/recipes/bobotie_95101\n",
      "https://www.bbc.com/food/recipes/bunny_chow_17677\n",
      "https://www.bbc.com/food/recipes/zoes_jollof_43216\n",
      "https://www.bbc.com/food/recipes/zanzibarchicken_85461\n",
      "https://www.bbc.com/food/recipes/manyatis_vegetable_35397\n",
      "https://www.bbc.com/food/recipes/sadzagoatstewwithcab_89103\n",
      "https://www.bbc.com/food/recipes/swahilichickenandpap_71266\n",
      "https://www.bbc.com/food/recipes/cape_malay_vegetarian_58096\n",
      "https://www.bbc.com/food/recipes/chicken_bastilla_with_27181\n",
      "https://www.bbc.com/food/recipes/lamb_and_apricot_cape_72967\n",
      "https://www.bbc.com/food/recipes/goat_and_tomato_bredie_87584\n",
      "https://www.bbc.com/food/recipes/grilled_pork_chops_with_74983\n",
      "https://www.bbc.com/food/recipes/jollof_quorn_pilau_with_33526\n",
      "https://www.bbc.com/food/recipes/beef_black-eyed-bean_and_85011\n",
      "https://www.bbc.com/food/recipes/senegalese_couscous_with_45637\n"
     ]
    }
   ],
   "source": [
    "for recipe in african_recipes_list:\n",
    "    print(\"https://www.bbc.com\" + recipe.get('href'))\n",
    "    "
   ]
  },
  {
   "cell_type": "code",
   "execution_count": 66,
   "metadata": {},
   "outputs": [
    {
     "data": {
      "text/plain": [
       "'/food/recipes/bunny_chow_38916'"
      ]
     },
     "execution_count": 66,
     "metadata": {},
     "output_type": "execute_result"
    }
   ],
   "source": [
    "african_recipes_list[0].get('href')"
   ]
  },
  {
   "cell_type": "code",
   "execution_count": 76,
   "metadata": {},
   "outputs": [
    {
     "name": "stdout",
     "output_type": "stream",
     "text": [
      "Hi Iffy! Happy Saturday! Have a great day!\n"
     ]
    }
   ],
   "source": [
    "print('Hi Iffy! Happy Saturday! Have a great day!')"
   ]
  },
  {
   "cell_type": "code",
   "execution_count": null,
   "metadata": {},
   "outputs": [],
   "source": []
  }
 ],
 "metadata": {
  "kernelspec": {
   "display_name": "Python 3",
   "language": "python",
   "name": "python3"
  },
  "language_info": {
   "codemirror_mode": {
    "name": "ipython",
    "version": 3
   },
   "file_extension": ".py",
   "mimetype": "text/x-python",
   "name": "python",
   "nbconvert_exporter": "python",
   "pygments_lexer": "ipython3",
   "version": "3.6.7"
  }
 },
 "nbformat": 4,
 "nbformat_minor": 2
}
