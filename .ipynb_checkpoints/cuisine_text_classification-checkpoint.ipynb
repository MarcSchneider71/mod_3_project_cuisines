{
 "cells": [
  {
   "cell_type": "code",
   "execution_count": 1,
   "metadata": {},
   "outputs": [],
   "source": [
    "import pandas as pd"
   ]
  },
  {
   "cell_type": "code",
   "execution_count": 2,
   "metadata": {},
   "outputs": [
    {
     "data": {
      "text/html": [
       "<div>\n",
       "<style scoped>\n",
       "    .dataframe tbody tr th:only-of-type {\n",
       "        vertical-align: middle;\n",
       "    }\n",
       "\n",
       "    .dataframe tbody tr th {\n",
       "        vertical-align: top;\n",
       "    }\n",
       "\n",
       "    .dataframe thead th {\n",
       "        text-align: right;\n",
       "    }\n",
       "</style>\n",
       "<table border=\"1\" class=\"dataframe\">\n",
       "  <thead>\n",
       "    <tr style=\"text-align: right;\">\n",
       "      <th></th>\n",
       "      <th>Recipe_Name</th>\n",
       "      <th>Recipe_Ingredients</th>\n",
       "      <th>Cuisine</th>\n",
       "    </tr>\n",
       "  </thead>\n",
       "  <tbody>\n",
       "    <tr>\n",
       "      <th>0</th>\n",
       "      <td>Bunny chow</td>\n",
       "      <td>2 tbsp vegetable oil ½ tsp cumin seeds ½ tsp f...</td>\n",
       "      <td>african</td>\n",
       "    </tr>\n",
       "    <tr>\n",
       "      <th>1</th>\n",
       "      <td>Jollof rice with fried plantains</td>\n",
       "      <td>1 tbsp olive or vegetable oil 2 large onions, ...</td>\n",
       "      <td>african</td>\n",
       "    </tr>\n",
       "    <tr>\n",
       "      <th>2</th>\n",
       "      <td>Jollof rice</td>\n",
       "      <td>400ml/14fl oz passata 3 tbsp tomato purée 2 fr...</td>\n",
       "      <td>african</td>\n",
       "    </tr>\n",
       "    <tr>\n",
       "      <th>3</th>\n",
       "      <td>Suya fillet burger with sweet potato cubes and...</td>\n",
       "      <td>4g smoked paprika  2g cayenne pepper 6g ginger...</td>\n",
       "      <td>african</td>\n",
       "    </tr>\n",
       "    <tr>\n",
       "      <th>4</th>\n",
       "      <td>Jollof rice with chicken</td>\n",
       "      <td>300g/10½oz basmati rice 1 tbsp vegetable oil 8...</td>\n",
       "      <td>african</td>\n",
       "    </tr>\n",
       "  </tbody>\n",
       "</table>\n",
       "</div>"
      ],
      "text/plain": [
       "                                         Recipe_Name  \\\n",
       "0                                         Bunny chow   \n",
       "1                   Jollof rice with fried plantains   \n",
       "2                                        Jollof rice   \n",
       "3  Suya fillet burger with sweet potato cubes and...   \n",
       "4                          Jollof rice with chicken    \n",
       "\n",
       "                                  Recipe_Ingredients  Cuisine  \n",
       "0  2 tbsp vegetable oil ½ tsp cumin seeds ½ tsp f...  african  \n",
       "1  1 tbsp olive or vegetable oil 2 large onions, ...  african  \n",
       "2  400ml/14fl oz passata 3 tbsp tomato purée 2 fr...  african  \n",
       "3  4g smoked paprika  2g cayenne pepper 6g ginger...  african  \n",
       "4  300g/10½oz basmati rice 1 tbsp vegetable oil 8...  african  "
      ]
     },
     "execution_count": 2,
     "metadata": {},
     "output_type": "execute_result"
    }
   ],
   "source": [
    "df= pd.read_csv('all_recipe_data.csv')\n",
    "df.head()"
   ]
  },
  {
   "cell_type": "code",
   "execution_count": 4,
   "metadata": {},
   "outputs": [
    {
     "data": {
      "text/html": [
       "<div>\n",
       "<style scoped>\n",
       "    .dataframe tbody tr th:only-of-type {\n",
       "        vertical-align: middle;\n",
       "    }\n",
       "\n",
       "    .dataframe tbody tr th {\n",
       "        vertical-align: top;\n",
       "    }\n",
       "\n",
       "    .dataframe thead th {\n",
       "        text-align: right;\n",
       "    }\n",
       "</style>\n",
       "<table border=\"1\" class=\"dataframe\">\n",
       "  <thead>\n",
       "    <tr style=\"text-align: right;\">\n",
       "      <th></th>\n",
       "      <th>Recipe_Name</th>\n",
       "      <th>Recipe_Ingredients</th>\n",
       "      <th>Cuisine</th>\n",
       "    </tr>\n",
       "  </thead>\n",
       "  <tbody>\n",
       "    <tr>\n",
       "      <th>count</th>\n",
       "      <td>5714</td>\n",
       "      <td>5714</td>\n",
       "      <td>5714</td>\n",
       "    </tr>\n",
       "    <tr>\n",
       "      <th>unique</th>\n",
       "      <td>475</td>\n",
       "      <td>477</td>\n",
       "      <td>22</td>\n",
       "    </tr>\n",
       "    <tr>\n",
       "      <th>top</th>\n",
       "      <td>Bunny chow</td>\n",
       "      <td>3 tbsp olive oil 1 small onion, chopped 2 carr...</td>\n",
       "      <td>turkish_and_middle_eastern</td>\n",
       "    </tr>\n",
       "    <tr>\n",
       "      <th>freq</th>\n",
       "      <td>44</td>\n",
       "      <td>22</td>\n",
       "      <td>477</td>\n",
       "    </tr>\n",
       "  </tbody>\n",
       "</table>\n",
       "</div>"
      ],
      "text/plain": [
       "       Recipe_Name                                 Recipe_Ingredients  \\\n",
       "count         5714                                               5714   \n",
       "unique         475                                                477   \n",
       "top     Bunny chow  3 tbsp olive oil 1 small onion, chopped 2 carr...   \n",
       "freq            44                                                 22   \n",
       "\n",
       "                           Cuisine  \n",
       "count                         5714  \n",
       "unique                          22  \n",
       "top     turkish_and_middle_eastern  \n",
       "freq                           477  "
      ]
     },
     "execution_count": 4,
     "metadata": {},
     "output_type": "execute_result"
    }
   ],
   "source": [
    "df.describe()"
   ]
  },
  {
   "cell_type": "code",
   "execution_count": 6,
   "metadata": {},
   "outputs": [
    {
     "name": "stdout",
     "output_type": "stream",
     "text": [
      "<class 'pandas.core.frame.DataFrame'>\n",
      "RangeIndex: 5714 entries, 0 to 5713\n",
      "Data columns (total 3 columns):\n",
      "Recipe_Name           5714 non-null object\n",
      "Recipe_Ingredients    5714 non-null object\n",
      "Cuisine               5714 non-null object\n",
      "dtypes: object(3)\n",
      "memory usage: 134.0+ KB\n"
     ]
    }
   ],
   "source": [
    "df.info()"
   ]
  },
  {
   "cell_type": "code",
   "execution_count": 8,
   "metadata": {},
   "outputs": [
    {
     "data": {
      "text/plain": [
       "(5714, 3)"
      ]
     },
     "execution_count": 8,
     "metadata": {},
     "output_type": "execute_result"
    }
   ],
   "source": [
    "df.shape"
   ]
  },
  {
   "cell_type": "code",
   "execution_count": 15,
   "metadata": {},
   "outputs": [
    {
     "data": {
      "text/plain": [
       "Recipe_Name           0\n",
       "Recipe_Ingredients    0\n",
       "Cuisine               0\n",
       "dtype: int64"
      ]
     },
     "execution_count": 15,
     "metadata": {},
     "output_type": "execute_result"
    }
   ],
   "source": [
    "df.isna().sum()"
   ]
  },
  {
   "cell_type": "code",
   "execution_count": 16,
   "metadata": {
    "scrolled": true
   },
   "outputs": [
    {
     "data": {
      "text/plain": [
       "Recipe_Name           0\n",
       "Recipe_Ingredients    0\n",
       "Cuisine               0\n",
       "dtype: int64"
      ]
     },
     "execution_count": 16,
     "metadata": {},
     "output_type": "execute_result"
    }
   ],
   "source": [
    "df.isnull().sum()"
   ]
  },
  {
   "cell_type": "code",
   "execution_count": 19,
   "metadata": {},
   "outputs": [
    {
     "data": {
      "text/plain": [
       "Recipe_Name           object\n",
       "Recipe_Ingredients    object\n",
       "Cuisine               object\n",
       "dtype: object"
      ]
     },
     "execution_count": 19,
     "metadata": {},
     "output_type": "execute_result"
    }
   ],
   "source": [
    "df.dtypes"
   ]
  },
  {
   "cell_type": "code",
   "execution_count": 68,
   "metadata": {},
   "outputs": [],
   "source": [
    "african= df[df['Cuisine']== 'african'].shape[0]\n",
    "american= df[df['Cuisine']== 'american'].shape[0]\n",
    "british= df[df['Cuisine']== 'british'].shape[0]\n",
    "caribbean= df[df['Cuisine']== 'caribbean'].shape[0]\n",
    "chinese= df[df['Cuisine']== 'chinese'].shape[0]\n",
    "east_european= df[df['Cuisine']== 'east_european'].shape[0]\n",
    "french= df[df['Cuisine']== 'french'].shape[0]\n",
    "greek= df[df['Cuisine']== 'greek'].shape[0]\n",
    "indian= df[df['Cuisine']== 'indian'].shape[0]\n",
    "irish= df[df['Cuisine']== 'irish'].shape[0]\n",
    "italian=df[df['Cuisine']== 'italian'].shape[0]\n",
    "japanese= df[df['Cuisine']== 'japanese'].shape[0]\n",
    "korean= df[df['Cuisine']== 'korean'].shape[0]\n",
    "mexican= df[df['Cuisine']== 'mexican'].shape[0]\n",
    "nordic= df[df['Cuisine']== 'nordic'].shape[0]\n",
    "north_african= df[df['Cuisine']== 'north_african'].shape[0]\n",
    "pakistani= df[df['Cuisine']== 'pakistani'].shape[0]\n",
    "portuguese= df[df['Cuisine']== 'portuguese'].shape[0]\n",
    "south_american= df[df['Cuisine']== 'south_american'].shape[0]\n",
    "spanish= df[df['Cuisine']== 'spanish'].shape[0]\n",
    "thai_south_east_asian= df[df['Cuisine']== 'thai_and_south-east_asian'].shape[0]\n",
    "turkish_middle_easter= df[df['Cuisine']== 'turkish_and_middle_easter'].shape[0]"
   ]
  },
  {
   "cell_type": "code",
   "execution_count": 88,
   "metadata": {},
   "outputs": [
    {
     "data": {
      "image/png": "[encoded data removed]",
      "text/plain": [
       "<Figure size 432x288 with 1 Axes>"
      ]
     },
     "metadata": {
      "needs_background": "light"
     },
     "output_type": "display_data"
    }
   ],
   "source": [
    "# bar plot of the 3 classes\n",
    "# plt.bar(10,EAP_len,3, label=\"EAP\")\n",
    "# plt.bar(15,HPL_len,3, label=\"HPL\")\n",
    "# plt.bar(20,MWS_len,3, label=\"MWS\")\n",
    "# plt.legend()\n",
    "# plt.ylabel('Number of examples')\n",
    "# plt.title('Propoertion of examples')\n",
    "# plt.show()\n",
    "plt.bar(1, african, label='african')\n",
    "plt.bar(2, american, label='american')\n",
    "plt.bar(3, british, label= 'british')\n",
    "plt.bar(4, spanish, label='spanish')\n",
    "plt.legend()\n",
    "plt.ylabel('Numbers')\n",
    "plt.title('Total Cuisines')\n",
    "plt.show()"
   ]
  },
  {
   "cell_type": "code",
   "execution_count": 17,
   "metadata": {},
   "outputs": [],
   "source": [
    "import matplotlib.pyplot as plt"
   ]
  },
  {
   "cell_type": "code",
   "execution_count": null,
   "metadata": {},
   "outputs": [],
   "source": []
  }
 ],
 "metadata": {
  "kernelspec": {
   "display_name": "Python 3",
   "language": "python",
   "name": "python3"
  },
  "language_info": {
   "codemirror_mode": {
    "name": "ipython",
    "version": 3
   },
   "file_extension": ".py",
   "mimetype": "text/x-python",
   "name": "python",
   "nbconvert_exporter": "python",
   "pygments_lexer": "ipython3",
   "version": "3.7.0"
  }
 },
 "nbformat": 4,
 "nbformat_minor": 2
}
